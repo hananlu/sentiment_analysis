{
 "cells": [
  {
   "cell_type": "code",
   "execution_count": 80,
   "id": "67edecc5",
   "metadata": {},
   "outputs": [],
   "source": [
    "import pandas as pd\n",
    "import numpy as np\n",
    "import matplotlib.pyplot as plt\n",
    "import seaborn as sns\n",
    "import nltk\n",
    "import string\n",
    "import re\n",
    "import emoji\n",
    "import warnings\n",
    "warnings.simplefilter(action='ignore', category=FutureWarning)"
   ]
  },
  {
   "cell_type": "code",
   "execution_count": 69,
   "id": "4a82b0b2",
   "metadata": {},
   "outputs": [
    {
     "data": {
      "text/html": [
       "<div>\n",
       "<style scoped>\n",
       "    .dataframe tbody tr th:only-of-type {\n",
       "        vertical-align: middle;\n",
       "    }\n",
       "\n",
       "    .dataframe tbody tr th {\n",
       "        vertical-align: top;\n",
       "    }\n",
       "\n",
       "    .dataframe thead th {\n",
       "        text-align: right;\n",
       "    }\n",
       "</style>\n",
       "<table border=\"1\" class=\"dataframe\">\n",
       "  <thead>\n",
       "    <tr style=\"text-align: right;\">\n",
       "      <th></th>\n",
       "      <th>created_at</th>\n",
       "      <th>id</th>\n",
       "      <th>id_str</th>\n",
       "      <th>full_text</th>\n",
       "      <th>quote_count</th>\n",
       "      <th>reply_count</th>\n",
       "      <th>retweet_count</th>\n",
       "      <th>favorite_count</th>\n",
       "      <th>geo</th>\n",
       "      <th>lang</th>\n",
       "      <th>user_id_str</th>\n",
       "      <th>conversation_id</th>\n",
       "      <th>conversation_id_str</th>\n",
       "      <th>media_url_https</th>\n",
       "      <th>media_type</th>\n",
       "      <th>username</th>\n",
       "    </tr>\n",
       "  </thead>\n",
       "  <tbody>\n",
       "    <tr>\n",
       "      <th>0</th>\n",
       "      <td>Fri Oct 07 12:41:45 +0000 2022</td>\n",
       "      <td>1578364957166833700</td>\n",
       "      <td>1578364957166833664</td>\n",
       "      <td>“Lebih dari seratus orang dibunuh oleh polisi....</td>\n",
       "      <td>0</td>\n",
       "      <td>1</td>\n",
       "      <td>3</td>\n",
       "      <td>7</td>\n",
       "      <td>NaN</td>\n",
       "      <td>in</td>\n",
       "      <td>569265633</td>\n",
       "      <td>1578364957166833700</td>\n",
       "      <td>1578364957166833664</td>\n",
       "      <td>NaN</td>\n",
       "      <td>NaN</td>\n",
       "      <td>islamidotco</td>\n",
       "    </tr>\n",
       "    <tr>\n",
       "      <th>1</th>\n",
       "      <td>Fri Oct 07 18:26:56 +0000 2022</td>\n",
       "      <td>1578451828714672000</td>\n",
       "      <td>1578451828714672128</td>\n",
       "      <td>Kalo harus cepet, klub bisa manuver minta pert...</td>\n",
       "      <td>0</td>\n",
       "      <td>1</td>\n",
       "      <td>0</td>\n",
       "      <td>0</td>\n",
       "      <td>NaN</td>\n",
       "      <td>in</td>\n",
       "      <td>1572482866097041408</td>\n",
       "      <td>1578451795609026600</td>\n",
       "      <td>1578451795609026560</td>\n",
       "      <td>NaN</td>\n",
       "      <td>NaN</td>\n",
       "      <td>_kang_bakso_</td>\n",
       "    </tr>\n",
       "    <tr>\n",
       "      <th>2</th>\n",
       "      <td>Fri Oct 07 16:19:46 +0000 2022</td>\n",
       "      <td>1578419822735392800</td>\n",
       "      <td>1578419822735392771</td>\n",
       "      <td>FIFA tidak berikan SANKSI kepada SEPAKBOLA IND...</td>\n",
       "      <td>0</td>\n",
       "      <td>0</td>\n",
       "      <td>0</td>\n",
       "      <td>1</td>\n",
       "      <td>NaN</td>\n",
       "      <td>in</td>\n",
       "      <td>1203075185420599296</td>\n",
       "      <td>1578419822735392800</td>\n",
       "      <td>1578419822735392771</td>\n",
       "      <td>NaN</td>\n",
       "      <td>NaN</td>\n",
       "      <td>Budi_2232</td>\n",
       "    </tr>\n",
       "    <tr>\n",
       "      <th>3</th>\n",
       "      <td>Fri Oct 07 07:41:49 +0000 2022</td>\n",
       "      <td>1578289477046239200</td>\n",
       "      <td>1578289477046239232</td>\n",
       "      <td>Kisah Iwan, Aremania yang Meninggal saat Menco...</td>\n",
       "      <td>0</td>\n",
       "      <td>0</td>\n",
       "      <td>1</td>\n",
       "      <td>1</td>\n",
       "      <td>NaN</td>\n",
       "      <td>in</td>\n",
       "      <td>58880688</td>\n",
       "      <td>1578289477046239200</td>\n",
       "      <td>1578289477046239232</td>\n",
       "      <td>NaN</td>\n",
       "      <td>NaN</td>\n",
       "      <td>pikiran_rakyat</td>\n",
       "    </tr>\n",
       "    <tr>\n",
       "      <th>4</th>\n",
       "      <td>Fri Oct 07 07:30:05 +0000 2022</td>\n",
       "      <td>1578286526035021800</td>\n",
       "      <td>1578286526035021824</td>\n",
       "      <td>Polisi menembakkan gas air mata saat menghalau...</td>\n",
       "      <td>0</td>\n",
       "      <td>0</td>\n",
       "      <td>0</td>\n",
       "      <td>0</td>\n",
       "      <td>NaN</td>\n",
       "      <td>in</td>\n",
       "      <td>902837643024539651</td>\n",
       "      <td>1578286526035021800</td>\n",
       "      <td>1578286526035021824</td>\n",
       "      <td>https://pbs.twimg.com/media/FeczNlpaMAA_otM.jpg</td>\n",
       "      <td>photo</td>\n",
       "      <td>medcom_id</td>\n",
       "    </tr>\n",
       "  </tbody>\n",
       "</table>\n",
       "</div>"
      ],
      "text/plain": [
       "                       created_at                   id               id_str  \\\n",
       "0  Fri Oct 07 12:41:45 +0000 2022  1578364957166833700  1578364957166833664   \n",
       "1  Fri Oct 07 18:26:56 +0000 2022  1578451828714672000  1578451828714672128   \n",
       "2  Fri Oct 07 16:19:46 +0000 2022  1578419822735392800  1578419822735392771   \n",
       "3  Fri Oct 07 07:41:49 +0000 2022  1578289477046239200  1578289477046239232   \n",
       "4  Fri Oct 07 07:30:05 +0000 2022  1578286526035021800  1578286526035021824   \n",
       "\n",
       "                                           full_text  quote_count  \\\n",
       "0  “Lebih dari seratus orang dibunuh oleh polisi....            0   \n",
       "1  Kalo harus cepet, klub bisa manuver minta pert...            0   \n",
       "2  FIFA tidak berikan SANKSI kepada SEPAKBOLA IND...            0   \n",
       "3  Kisah Iwan, Aremania yang Meninggal saat Menco...            0   \n",
       "4  Polisi menembakkan gas air mata saat menghalau...            0   \n",
       "\n",
       "   reply_count  retweet_count  favorite_count  geo lang          user_id_str  \\\n",
       "0            1              3               7  NaN   in            569265633   \n",
       "1            1              0               0  NaN   in  1572482866097041408   \n",
       "2            0              0               1  NaN   in  1203075185420599296   \n",
       "3            0              1               1  NaN   in             58880688   \n",
       "4            0              0               0  NaN   in   902837643024539651   \n",
       "\n",
       "       conversation_id  conversation_id_str  \\\n",
       "0  1578364957166833700  1578364957166833664   \n",
       "1  1578451795609026600  1578451795609026560   \n",
       "2  1578419822735392800  1578419822735392771   \n",
       "3  1578289477046239200  1578289477046239232   \n",
       "4  1578286526035021800  1578286526035021824   \n",
       "\n",
       "                                   media_url_https media_type        username  \n",
       "0                                              NaN        NaN     islamidotco  \n",
       "1                                              NaN        NaN    _kang_bakso_  \n",
       "2                                              NaN        NaN       Budi_2232  \n",
       "3                                              NaN        NaN  pikiran_rakyat  \n",
       "4  https://pbs.twimg.com/media/FeczNlpaMAA_otM.jpg      photo       medcom_id  "
      ]
     },
     "execution_count": 69,
     "metadata": {},
     "output_type": "execute_result"
    }
   ],
   "source": [
    "df = pd.read_csv('./dataset/polisi_kanjuruhan_suporter_08-05-2023_06-11-21.csv', on_bad_lines='skip', sep=';')\n",
    "df.head()"
   ]
  },
  {
   "cell_type": "code",
   "execution_count": 70,
   "id": "e6bf6be3",
   "metadata": {},
   "outputs": [
    {
     "data": {
      "text/plain": [
       "(1065, 16)"
      ]
     },
     "execution_count": 70,
     "metadata": {},
     "output_type": "execute_result"
    }
   ],
   "source": [
    "df.shape"
   ]
  },
  {
   "cell_type": "code",
   "execution_count": 71,
   "id": "9d383dd1",
   "metadata": {},
   "outputs": [
    {
     "data": {
      "text/plain": [
       "0       “Lebih dari seratus orang dibunuh oleh polisi....\n",
       "1       Kalo harus cepet, klub bisa manuver minta pert...\n",
       "2       FIFA tidak berikan SANKSI kepada SEPAKBOLA IND...\n",
       "3       Kisah Iwan, Aremania yang Meninggal saat Menco...\n",
       "4       Polisi menembakkan gas air mata saat menghalau...\n",
       "                              ...                        \n",
       "1060    Innalillahi..\\n\\nSpeechless.\\n\\nhttps://t.co/D...\n",
       "1061    Alasan Polisi Tembakkan Gas Air Mata saat Keru...\n",
       "1062    127 supporter termasuk anak2 meninggal di stad...\n",
       "1063    Pihak yg jadi penyebab tragedi #Kanjuruhan :\\n...\n",
       "1064    Ini akibat ketololan oknum suporter saja , yg ...\n",
       "Name: full_text, Length: 1065, dtype: object"
      ]
     },
     "execution_count": 71,
     "metadata": {},
     "output_type": "execute_result"
    }
   ],
   "source": [
    "df['full_text']"
   ]
  },
  {
   "cell_type": "code",
   "execution_count": 72,
   "id": "8838b1a9",
   "metadata": {},
   "outputs": [],
   "source": [
    "data = df[['created_at', 'full_text']]"
   ]
  },
  {
   "cell_type": "code",
   "execution_count": 73,
   "id": "a856ccdd",
   "metadata": {},
   "outputs": [
    {
     "data": {
      "text/html": [
       "<div>\n",
       "<style scoped>\n",
       "    .dataframe tbody tr th:only-of-type {\n",
       "        vertical-align: middle;\n",
       "    }\n",
       "\n",
       "    .dataframe tbody tr th {\n",
       "        vertical-align: top;\n",
       "    }\n",
       "\n",
       "    .dataframe thead th {\n",
       "        text-align: right;\n",
       "    }\n",
       "</style>\n",
       "<table border=\"1\" class=\"dataframe\">\n",
       "  <thead>\n",
       "    <tr style=\"text-align: right;\">\n",
       "      <th></th>\n",
       "      <th>created_at</th>\n",
       "      <th>full_text</th>\n",
       "    </tr>\n",
       "  </thead>\n",
       "  <tbody>\n",
       "    <tr>\n",
       "      <th>0</th>\n",
       "      <td>Fri Oct 07 12:41:45 +0000 2022</td>\n",
       "      <td>“Lebih dari seratus orang dibunuh oleh polisi....</td>\n",
       "    </tr>\n",
       "    <tr>\n",
       "      <th>1</th>\n",
       "      <td>Fri Oct 07 18:26:56 +0000 2022</td>\n",
       "      <td>Kalo harus cepet, klub bisa manuver minta pert...</td>\n",
       "    </tr>\n",
       "    <tr>\n",
       "      <th>2</th>\n",
       "      <td>Fri Oct 07 16:19:46 +0000 2022</td>\n",
       "      <td>FIFA tidak berikan SANKSI kepada SEPAKBOLA IND...</td>\n",
       "    </tr>\n",
       "    <tr>\n",
       "      <th>3</th>\n",
       "      <td>Fri Oct 07 07:41:49 +0000 2022</td>\n",
       "      <td>Kisah Iwan, Aremania yang Meninggal saat Menco...</td>\n",
       "    </tr>\n",
       "    <tr>\n",
       "      <th>4</th>\n",
       "      <td>Fri Oct 07 07:30:05 +0000 2022</td>\n",
       "      <td>Polisi menembakkan gas air mata saat menghalau...</td>\n",
       "    </tr>\n",
       "    <tr>\n",
       "      <th>...</th>\n",
       "      <td>...</td>\n",
       "      <td>...</td>\n",
       "    </tr>\n",
       "    <tr>\n",
       "      <th>1060</th>\n",
       "      <td>Sun Oct 02 00:09:23 +0000 2022</td>\n",
       "      <td>Innalillahi..\\n\\nSpeechless.\\n\\nhttps://t.co/D...</td>\n",
       "    </tr>\n",
       "    <tr>\n",
       "      <th>1061</th>\n",
       "      <td>Sun Oct 02 00:07:07 +0000 2022</td>\n",
       "      <td>Alasan Polisi Tembakkan Gas Air Mata saat Keru...</td>\n",
       "    </tr>\n",
       "    <tr>\n",
       "      <th>1062</th>\n",
       "      <td>Sun Oct 02 00:07:59 +0000 2022</td>\n",
       "      <td>127 supporter termasuk anak2 meninggal di stad...</td>\n",
       "    </tr>\n",
       "    <tr>\n",
       "      <th>1063</th>\n",
       "      <td>Sun Oct 02 00:07:22 +0000 2022</td>\n",
       "      <td>Pihak yg jadi penyebab tragedi #Kanjuruhan :\\n...</td>\n",
       "    </tr>\n",
       "    <tr>\n",
       "      <th>1064</th>\n",
       "      <td>Sun Oct 02 00:01:53 +0000 2022</td>\n",
       "      <td>Ini akibat ketololan oknum suporter saja , yg ...</td>\n",
       "    </tr>\n",
       "  </tbody>\n",
       "</table>\n",
       "<p>1065 rows × 2 columns</p>\n",
       "</div>"
      ],
      "text/plain": [
       "                          created_at  \\\n",
       "0     Fri Oct 07 12:41:45 +0000 2022   \n",
       "1     Fri Oct 07 18:26:56 +0000 2022   \n",
       "2     Fri Oct 07 16:19:46 +0000 2022   \n",
       "3     Fri Oct 07 07:41:49 +0000 2022   \n",
       "4     Fri Oct 07 07:30:05 +0000 2022   \n",
       "...                              ...   \n",
       "1060  Sun Oct 02 00:09:23 +0000 2022   \n",
       "1061  Sun Oct 02 00:07:07 +0000 2022   \n",
       "1062  Sun Oct 02 00:07:59 +0000 2022   \n",
       "1063  Sun Oct 02 00:07:22 +0000 2022   \n",
       "1064  Sun Oct 02 00:01:53 +0000 2022   \n",
       "\n",
       "                                              full_text  \n",
       "0     “Lebih dari seratus orang dibunuh oleh polisi....  \n",
       "1     Kalo harus cepet, klub bisa manuver minta pert...  \n",
       "2     FIFA tidak berikan SANKSI kepada SEPAKBOLA IND...  \n",
       "3     Kisah Iwan, Aremania yang Meninggal saat Menco...  \n",
       "4     Polisi menembakkan gas air mata saat menghalau...  \n",
       "...                                                 ...  \n",
       "1060  Innalillahi..\\n\\nSpeechless.\\n\\nhttps://t.co/D...  \n",
       "1061  Alasan Polisi Tembakkan Gas Air Mata saat Keru...  \n",
       "1062  127 supporter termasuk anak2 meninggal di stad...  \n",
       "1063  Pihak yg jadi penyebab tragedi #Kanjuruhan :\\n...  \n",
       "1064  Ini akibat ketololan oknum suporter saja , yg ...  \n",
       "\n",
       "[1065 rows x 2 columns]"
      ]
     },
     "execution_count": 73,
     "metadata": {},
     "output_type": "execute_result"
    }
   ],
   "source": [
    "data"
   ]
  },
  {
   "cell_type": "code",
   "execution_count": 74,
   "id": "4adb5f29",
   "metadata": {},
   "outputs": [
    {
     "data": {
      "text/plain": [
       "'Alasan Polisi Tembakkan Gas Air Mata saat Kerusuhan Suporter di Stadion Kanjuruhan Malang https://t.co/py05pcV2BZ'"
      ]
     },
     "execution_count": 74,
     "metadata": {},
     "output_type": "execute_result"
    }
   ],
   "source": [
    "data.loc[1061][1]"
   ]
  },
  {
   "cell_type": "code",
   "execution_count": 75,
   "id": "d9042a7e",
   "metadata": {},
   "outputs": [
    {
     "data": {
      "text/plain": [
       "4"
      ]
     },
     "execution_count": 75,
     "metadata": {},
     "output_type": "execute_result"
    }
   ],
   "source": [
    "data.duplicated().sum()"
   ]
  },
  {
   "cell_type": "code",
   "execution_count": 76,
   "id": "a723cba6",
   "metadata": {},
   "outputs": [
    {
     "name": "stderr",
     "output_type": "stream",
     "text": [
      "/tmp/ipykernel_1014577/2282015914.py:1: SettingWithCopyWarning: \n",
      "A value is trying to be set on a copy of a slice from a DataFrame\n",
      "\n",
      "See the caveats in the documentation: https://pandas.pydata.org/pandas-docs/stable/user_guide/indexing.html#returning-a-view-versus-a-copy\n",
      "  data.drop_duplicates(inplace=True)\n"
     ]
    }
   ],
   "source": [
    "data.drop_duplicates(inplace=True)"
   ]
  },
  {
   "cell_type": "code",
   "execution_count": 77,
   "id": "073d3c36",
   "metadata": {},
   "outputs": [
    {
     "data": {
      "text/plain": [
       "0"
      ]
     },
     "execution_count": 77,
     "metadata": {},
     "output_type": "execute_result"
    }
   ],
   "source": [
    "data.duplicated().sum()"
   ]
  },
  {
   "cell_type": "code",
   "execution_count": 81,
   "id": "2aaf8ae7",
   "metadata": {},
   "outputs": [],
   "source": [
    "def clean_word(tweet):\n",
    "    tweet = re.sub(r'^RT[\\s]+', '', tweet)\n",
    "    tweet = re.sub(r'#', '', tweet)\n",
    "    tweet = re.sub(r'https\\S+', '', tweet)\n",
    "    tweet = re.sub(r'[0-9]+', '', tweet)\n",
    "    tweet = re.sub(r\"\\_\", \" \", tweet)\n",
    "    tweet = re.sub(\"\\W+\", \" \", tweet)\n",
    "    tweet = re.sub(r'\\\\n', \" \", tweet)\n",
    "    tweet = re.sub(r':', '', tweet)\n",
    "    \n",
    "    return tweet"
   ]
  },
  {
   "cell_type": "code",
   "execution_count": 82,
   "id": "115e6ba9",
   "metadata": {},
   "outputs": [
    {
     "data": {
      "text/html": [
       "<div>\n",
       "<style scoped>\n",
       "    .dataframe tbody tr th:only-of-type {\n",
       "        vertical-align: middle;\n",
       "    }\n",
       "\n",
       "    .dataframe tbody tr th {\n",
       "        vertical-align: top;\n",
       "    }\n",
       "\n",
       "    .dataframe thead th {\n",
       "        text-align: right;\n",
       "    }\n",
       "</style>\n",
       "<table border=\"1\" class=\"dataframe\">\n",
       "  <thead>\n",
       "    <tr style=\"text-align: right;\">\n",
       "      <th></th>\n",
       "      <th>created_at</th>\n",
       "      <th>full_text</th>\n",
       "    </tr>\n",
       "  </thead>\n",
       "  <tbody>\n",
       "    <tr>\n",
       "      <th>0</th>\n",
       "      <td>Fri Oct 07 12:41:45 +0000 2022</td>\n",
       "      <td>“Lebih dari seratus orang dibunuh oleh polisi....</td>\n",
       "    </tr>\n",
       "    <tr>\n",
       "      <th>1</th>\n",
       "      <td>Fri Oct 07 18:26:56 +0000 2022</td>\n",
       "      <td>Kalo harus cepet, klub bisa manuver minta pert...</td>\n",
       "    </tr>\n",
       "  </tbody>\n",
       "</table>\n",
       "</div>"
      ],
      "text/plain": [
       "                       created_at  \\\n",
       "0  Fri Oct 07 12:41:45 +0000 2022   \n",
       "1  Fri Oct 07 18:26:56 +0000 2022   \n",
       "\n",
       "                                           full_text  \n",
       "0  “Lebih dari seratus orang dibunuh oleh polisi....  \n",
       "1  Kalo harus cepet, klub bisa manuver minta pert...  "
      ]
     },
     "execution_count": 82,
     "metadata": {},
     "output_type": "execute_result"
    }
   ],
   "source": [
    "data.head(2)"
   ]
  },
  {
   "cell_type": "code",
   "execution_count": 83,
   "id": "f686dd85",
   "metadata": {},
   "outputs": [
    {
     "name": "stderr",
     "output_type": "stream",
     "text": [
      "/tmp/ipykernel_1014577/3397790900.py:1: SettingWithCopyWarning: \n",
      "A value is trying to be set on a copy of a slice from a DataFrame.\n",
      "Try using .loc[row_indexer,col_indexer] = value instead\n",
      "\n",
      "See the caveats in the documentation: https://pandas.pydata.org/pandas-docs/stable/user_guide/indexing.html#returning-a-view-versus-a-copy\n",
      "  data['clean_text'] = data['full_text'].apply(lambda x: clean_word(x))\n"
     ]
    }
   ],
   "source": [
    "data['clean_text'] = data['full_text'].apply(lambda x: clean_word(x))"
   ]
  },
  {
   "cell_type": "code",
   "execution_count": 84,
   "id": "9cf92d6c",
   "metadata": {},
   "outputs": [
    {
     "data": {
      "text/html": [
       "<div>\n",
       "<style scoped>\n",
       "    .dataframe tbody tr th:only-of-type {\n",
       "        vertical-align: middle;\n",
       "    }\n",
       "\n",
       "    .dataframe tbody tr th {\n",
       "        vertical-align: top;\n",
       "    }\n",
       "\n",
       "    .dataframe thead th {\n",
       "        text-align: right;\n",
       "    }\n",
       "</style>\n",
       "<table border=\"1\" class=\"dataframe\">\n",
       "  <thead>\n",
       "    <tr style=\"text-align: right;\">\n",
       "      <th></th>\n",
       "      <th>created_at</th>\n",
       "      <th>full_text</th>\n",
       "      <th>clean_text</th>\n",
       "    </tr>\n",
       "  </thead>\n",
       "  <tbody>\n",
       "    <tr>\n",
       "      <th>0</th>\n",
       "      <td>Fri Oct 07 12:41:45 +0000 2022</td>\n",
       "      <td>“Lebih dari seratus orang dibunuh oleh polisi....</td>\n",
       "      <td>Lebih dari seratus orang dibunuh oleh polisi ...</td>\n",
       "    </tr>\n",
       "    <tr>\n",
       "      <th>1</th>\n",
       "      <td>Fri Oct 07 18:26:56 +0000 2022</td>\n",
       "      <td>Kalo harus cepet, klub bisa manuver minta pert...</td>\n",
       "      <td>Kalo harus cepet klub bisa manuver minta perta...</td>\n",
       "    </tr>\n",
       "    <tr>\n",
       "      <th>2</th>\n",
       "      <td>Fri Oct 07 16:19:46 +0000 2022</td>\n",
       "      <td>FIFA tidak berikan SANKSI kepada SEPAKBOLA IND...</td>\n",
       "      <td>FIFA tidak berikan SANKSI kepada SEPAKBOLA IND...</td>\n",
       "    </tr>\n",
       "    <tr>\n",
       "      <th>3</th>\n",
       "      <td>Fri Oct 07 07:41:49 +0000 2022</td>\n",
       "      <td>Kisah Iwan, Aremania yang Meninggal saat Menco...</td>\n",
       "      <td>Kisah Iwan Aremania yang Meninggal saat Mencob...</td>\n",
       "    </tr>\n",
       "    <tr>\n",
       "      <th>4</th>\n",
       "      <td>Fri Oct 07 07:30:05 +0000 2022</td>\n",
       "      <td>Polisi menembakkan gas air mata saat menghalau...</td>\n",
       "      <td>Polisi menembakkan gas air mata saat menghalau...</td>\n",
       "    </tr>\n",
       "  </tbody>\n",
       "</table>\n",
       "</div>"
      ],
      "text/plain": [
       "                       created_at  \\\n",
       "0  Fri Oct 07 12:41:45 +0000 2022   \n",
       "1  Fri Oct 07 18:26:56 +0000 2022   \n",
       "2  Fri Oct 07 16:19:46 +0000 2022   \n",
       "3  Fri Oct 07 07:41:49 +0000 2022   \n",
       "4  Fri Oct 07 07:30:05 +0000 2022   \n",
       "\n",
       "                                           full_text  \\\n",
       "0  “Lebih dari seratus orang dibunuh oleh polisi....   \n",
       "1  Kalo harus cepet, klub bisa manuver minta pert...   \n",
       "2  FIFA tidak berikan SANKSI kepada SEPAKBOLA IND...   \n",
       "3  Kisah Iwan, Aremania yang Meninggal saat Menco...   \n",
       "4  Polisi menembakkan gas air mata saat menghalau...   \n",
       "\n",
       "                                          clean_text  \n",
       "0   Lebih dari seratus orang dibunuh oleh polisi ...  \n",
       "1  Kalo harus cepet klub bisa manuver minta perta...  \n",
       "2  FIFA tidak berikan SANKSI kepada SEPAKBOLA IND...  \n",
       "3  Kisah Iwan Aremania yang Meninggal saat Mencob...  \n",
       "4  Polisi menembakkan gas air mata saat menghalau...  "
      ]
     },
     "execution_count": 84,
     "metadata": {},
     "output_type": "execute_result"
    }
   ],
   "source": [
    "data.head()"
   ]
  },
  {
   "cell_type": "code",
   "execution_count": 87,
   "id": "cba7f22e",
   "metadata": {},
   "outputs": [
    {
     "name": "stderr",
     "output_type": "stream",
     "text": [
      "/tmp/ipykernel_1014577/584121520.py:1: SettingWithCopyWarning: \n",
      "A value is trying to be set on a copy of a slice from a DataFrame.\n",
      "Try using .loc[row_indexer,col_indexer] = value instead\n",
      "\n",
      "See the caveats in the documentation: https://pandas.pydata.org/pandas-docs/stable/user_guide/indexing.html#returning-a-view-versus-a-copy\n",
      "  data['clean_text'] = data['clean_text'].str.lower()\n"
     ]
    }
   ],
   "source": [
    "data['clean_text'] = data['clean_text'].str.lower()"
   ]
  },
  {
   "cell_type": "code",
   "execution_count": 88,
   "id": "9b8c9852",
   "metadata": {},
   "outputs": [
    {
     "data": {
      "text/html": [
       "<div>\n",
       "<style scoped>\n",
       "    .dataframe tbody tr th:only-of-type {\n",
       "        vertical-align: middle;\n",
       "    }\n",
       "\n",
       "    .dataframe tbody tr th {\n",
       "        vertical-align: top;\n",
       "    }\n",
       "\n",
       "    .dataframe thead th {\n",
       "        text-align: right;\n",
       "    }\n",
       "</style>\n",
       "<table border=\"1\" class=\"dataframe\">\n",
       "  <thead>\n",
       "    <tr style=\"text-align: right;\">\n",
       "      <th></th>\n",
       "      <th>created_at</th>\n",
       "      <th>full_text</th>\n",
       "      <th>clean_text</th>\n",
       "    </tr>\n",
       "  </thead>\n",
       "  <tbody>\n",
       "    <tr>\n",
       "      <th>0</th>\n",
       "      <td>Fri Oct 07 12:41:45 +0000 2022</td>\n",
       "      <td>“Lebih dari seratus orang dibunuh oleh polisi....</td>\n",
       "      <td>lebih dari seratus orang dibunuh oleh polisi ...</td>\n",
       "    </tr>\n",
       "    <tr>\n",
       "      <th>1</th>\n",
       "      <td>Fri Oct 07 18:26:56 +0000 2022</td>\n",
       "      <td>Kalo harus cepet, klub bisa manuver minta pert...</td>\n",
       "      <td>kalo harus cepet klub bisa manuver minta perta...</td>\n",
       "    </tr>\n",
       "  </tbody>\n",
       "</table>\n",
       "</div>"
      ],
      "text/plain": [
       "                       created_at  \\\n",
       "0  Fri Oct 07 12:41:45 +0000 2022   \n",
       "1  Fri Oct 07 18:26:56 +0000 2022   \n",
       "\n",
       "                                           full_text  \\\n",
       "0  “Lebih dari seratus orang dibunuh oleh polisi....   \n",
       "1  Kalo harus cepet, klub bisa manuver minta pert...   \n",
       "\n",
       "                                          clean_text  \n",
       "0   lebih dari seratus orang dibunuh oleh polisi ...  \n",
       "1  kalo harus cepet klub bisa manuver minta perta...  "
      ]
     },
     "execution_count": 88,
     "metadata": {},
     "output_type": "execute_result"
    }
   ],
   "source": [
    "data.head(2)"
   ]
  },
  {
   "cell_type": "code",
   "execution_count": 90,
   "id": "82cf2e1b",
   "metadata": {},
   "outputs": [
    {
     "data": {
      "text/plain": [
       "0     lebih dari seratus orang dibunuh oleh polisi ...\n",
       "1    kalo harus cepet klub bisa manuver minta perta...\n",
       "2    fifa tidak berikan sanksi kepada sepakbola ind...\n",
       "3    kisah iwan aremania yang meninggal saat mencob...\n",
       "4    polisi menembakkan gas air mata saat menghalau...\n",
       "5    tragedi kanjuruhan terulang di argentina supor...\n",
       "6    polisi kantongi identitas suporter perusak mob...\n",
       "7    kapolri jenderal polisi listyo sigit prabowo m...\n",
       "8    suporter bayern muchen mengenang kanjuruhan nl...\n",
       "9    saya telah menerima surat dari fifa menyusul p...\n",
       "Name: clean_text, dtype: object"
      ]
     },
     "execution_count": 90,
     "metadata": {},
     "output_type": "execute_result"
    }
   ],
   "source": [
    "data['clean_text'][:10]"
   ]
  },
  {
   "cell_type": "code",
   "execution_count": 91,
   "id": "055ac5c5",
   "metadata": {},
   "outputs": [
    {
     "name": "stderr",
     "output_type": "stream",
     "text": [
      "/tmp/ipykernel_1014577/1107246706.py:1: SettingWithCopyWarning: \n",
      "A value is trying to be set on a copy of a slice from a DataFrame.\n",
      "Try using .loc[row_indexer,col_indexer] = value instead\n",
      "\n",
      "See the caveats in the documentation: https://pandas.pydata.org/pandas-docs/stable/user_guide/indexing.html#returning-a-view-versus-a-copy\n",
      "  data['clean_text'] = data['clean_text'].str.replace(\"[^a-zA-Z#]\", \" \")\n"
     ]
    }
   ],
   "source": [
    "data['clean_text'] = data['clean_text'].str.replace(\"[^a-zA-Z#]\", \" \")"
   ]
  },
  {
   "cell_type": "code",
   "execution_count": 94,
   "id": "76c1864b",
   "metadata": {},
   "outputs": [
    {
     "data": {
      "text/html": [
       "<div>\n",
       "<style scoped>\n",
       "    .dataframe tbody tr th:only-of-type {\n",
       "        vertical-align: middle;\n",
       "    }\n",
       "\n",
       "    .dataframe tbody tr th {\n",
       "        vertical-align: top;\n",
       "    }\n",
       "\n",
       "    .dataframe thead th {\n",
       "        text-align: right;\n",
       "    }\n",
       "</style>\n",
       "<table border=\"1\" class=\"dataframe\">\n",
       "  <thead>\n",
       "    <tr style=\"text-align: right;\">\n",
       "      <th></th>\n",
       "      <th>created_at</th>\n",
       "      <th>full_text</th>\n",
       "      <th>clean_text</th>\n",
       "    </tr>\n",
       "  </thead>\n",
       "  <tbody>\n",
       "    <tr>\n",
       "      <th>0</th>\n",
       "      <td>Fri Oct 07 12:41:45 +0000 2022</td>\n",
       "      <td>“Lebih dari seratus orang dibunuh oleh polisi....</td>\n",
       "      <td>lebih dari seratus orang dibunuh oleh polisi ...</td>\n",
       "    </tr>\n",
       "    <tr>\n",
       "      <th>1</th>\n",
       "      <td>Fri Oct 07 18:26:56 +0000 2022</td>\n",
       "      <td>Kalo harus cepet, klub bisa manuver minta pert...</td>\n",
       "      <td>kalo harus cepet klub bisa manuver minta perta...</td>\n",
       "    </tr>\n",
       "    <tr>\n",
       "      <th>2</th>\n",
       "      <td>Fri Oct 07 16:19:46 +0000 2022</td>\n",
       "      <td>FIFA tidak berikan SANKSI kepada SEPAKBOLA IND...</td>\n",
       "      <td>fifa tidak berikan sanksi kepada sepakbola ind...</td>\n",
       "    </tr>\n",
       "    <tr>\n",
       "      <th>3</th>\n",
       "      <td>Fri Oct 07 07:41:49 +0000 2022</td>\n",
       "      <td>Kisah Iwan, Aremania yang Meninggal saat Menco...</td>\n",
       "      <td>kisah iwan aremania yang meninggal saat mencob...</td>\n",
       "    </tr>\n",
       "    <tr>\n",
       "      <th>4</th>\n",
       "      <td>Fri Oct 07 07:30:05 +0000 2022</td>\n",
       "      <td>Polisi menembakkan gas air mata saat menghalau...</td>\n",
       "      <td>polisi menembakkan gas air mata saat menghalau...</td>\n",
       "    </tr>\n",
       "    <tr>\n",
       "      <th>...</th>\n",
       "      <td>...</td>\n",
       "      <td>...</td>\n",
       "      <td>...</td>\n",
       "    </tr>\n",
       "    <tr>\n",
       "      <th>1060</th>\n",
       "      <td>Sun Oct 02 00:09:23 +0000 2022</td>\n",
       "      <td>Innalillahi..\\n\\nSpeechless.\\n\\nhttps://t.co/D...</td>\n",
       "      <td>innalillahi n nspeechless n n orang menjadi ko...</td>\n",
       "    </tr>\n",
       "    <tr>\n",
       "      <th>1061</th>\n",
       "      <td>Sun Oct 02 00:07:07 +0000 2022</td>\n",
       "      <td>Alasan Polisi Tembakkan Gas Air Mata saat Keru...</td>\n",
       "      <td>alasan polisi tembakkan gas air mata saat keru...</td>\n",
       "    </tr>\n",
       "    <tr>\n",
       "      <th>1062</th>\n",
       "      <td>Sun Oct 02 00:07:59 +0000 2022</td>\n",
       "      <td>127 supporter termasuk anak2 meninggal di stad...</td>\n",
       "      <td>supporter termasuk anak meninggal di stadion ...</td>\n",
       "    </tr>\n",
       "    <tr>\n",
       "      <th>1063</th>\n",
       "      <td>Sun Oct 02 00:07:22 +0000 2022</td>\n",
       "      <td>Pihak yg jadi penyebab tragedi #Kanjuruhan :\\n...</td>\n",
       "      <td>pihak yg jadi penyebab tragedi kanjuruhan n ps...</td>\n",
       "    </tr>\n",
       "    <tr>\n",
       "      <th>1064</th>\n",
       "      <td>Sun Oct 02 00:01:53 +0000 2022</td>\n",
       "      <td>Ini akibat ketololan oknum suporter saja , yg ...</td>\n",
       "      <td>ini akibat ketololan oknum suporter saja yg g ...</td>\n",
       "    </tr>\n",
       "  </tbody>\n",
       "</table>\n",
       "<p>1061 rows × 3 columns</p>\n",
       "</div>"
      ],
      "text/plain": [
       "                          created_at  \\\n",
       "0     Fri Oct 07 12:41:45 +0000 2022   \n",
       "1     Fri Oct 07 18:26:56 +0000 2022   \n",
       "2     Fri Oct 07 16:19:46 +0000 2022   \n",
       "3     Fri Oct 07 07:41:49 +0000 2022   \n",
       "4     Fri Oct 07 07:30:05 +0000 2022   \n",
       "...                              ...   \n",
       "1060  Sun Oct 02 00:09:23 +0000 2022   \n",
       "1061  Sun Oct 02 00:07:07 +0000 2022   \n",
       "1062  Sun Oct 02 00:07:59 +0000 2022   \n",
       "1063  Sun Oct 02 00:07:22 +0000 2022   \n",
       "1064  Sun Oct 02 00:01:53 +0000 2022   \n",
       "\n",
       "                                              full_text  \\\n",
       "0     “Lebih dari seratus orang dibunuh oleh polisi....   \n",
       "1     Kalo harus cepet, klub bisa manuver minta pert...   \n",
       "2     FIFA tidak berikan SANKSI kepada SEPAKBOLA IND...   \n",
       "3     Kisah Iwan, Aremania yang Meninggal saat Menco...   \n",
       "4     Polisi menembakkan gas air mata saat menghalau...   \n",
       "...                                                 ...   \n",
       "1060  Innalillahi..\\n\\nSpeechless.\\n\\nhttps://t.co/D...   \n",
       "1061  Alasan Polisi Tembakkan Gas Air Mata saat Keru...   \n",
       "1062  127 supporter termasuk anak2 meninggal di stad...   \n",
       "1063  Pihak yg jadi penyebab tragedi #Kanjuruhan :\\n...   \n",
       "1064  Ini akibat ketololan oknum suporter saja , yg ...   \n",
       "\n",
       "                                             clean_text  \n",
       "0      lebih dari seratus orang dibunuh oleh polisi ...  \n",
       "1     kalo harus cepet klub bisa manuver minta perta...  \n",
       "2     fifa tidak berikan sanksi kepada sepakbola ind...  \n",
       "3     kisah iwan aremania yang meninggal saat mencob...  \n",
       "4     polisi menembakkan gas air mata saat menghalau...  \n",
       "...                                                 ...  \n",
       "1060  innalillahi n nspeechless n n orang menjadi ko...  \n",
       "1061  alasan polisi tembakkan gas air mata saat keru...  \n",
       "1062   supporter termasuk anak meninggal di stadion ...  \n",
       "1063  pihak yg jadi penyebab tragedi kanjuruhan n ps...  \n",
       "1064  ini akibat ketololan oknum suporter saja yg g ...  \n",
       "\n",
       "[1061 rows x 3 columns]"
      ]
     },
     "execution_count": 94,
     "metadata": {},
     "output_type": "execute_result"
    }
   ],
   "source": [
    "data"
   ]
  },
  {
   "cell_type": "code",
   "execution_count": 95,
   "id": "72d259a0",
   "metadata": {},
   "outputs": [
    {
     "data": {
      "text/plain": [
       "'pihak yg jadi penyebab tragedi kanjuruhan n pssi dan pt lib karena menolak perubahan jadwal yang dimohonkan arema hanya karena kepentingan rating semata n polisi yang menggunakan gas air mata n penyebab utama suporter arema yg masuk ke lapangan dan memicu kericuhan '"
      ]
     },
     "execution_count": 95,
     "metadata": {},
     "output_type": "execute_result"
    }
   ],
   "source": [
    "data['clean_text'].loc[1063]"
   ]
  },
  {
   "cell_type": "code",
   "execution_count": 96,
   "id": "e8089c9b",
   "metadata": {},
   "outputs": [
    {
     "name": "stderr",
     "output_type": "stream",
     "text": [
      "/tmp/ipykernel_1014577/4231270860.py:2: SettingWithCopyWarning: \n",
      "A value is trying to be set on a copy of a slice from a DataFrame.\n",
      "Try using .loc[row_indexer,col_indexer] = value instead\n",
      "\n",
      "See the caveats in the documentation: https://pandas.pydata.org/pandas-docs/stable/user_guide/indexing.html#returning-a-view-versus-a-copy\n",
      "  data['clean_text'] = data['clean_text'].apply(lambda x: \" \".join([i for i in x.split() if len(i)>2]))\n"
     ]
    }
   ],
   "source": [
    "# Remove short words\n",
    "data['clean_text'] = data['clean_text'].apply(lambda x: \" \".join([i for i in x.split() if len(i)>2]))"
   ]
  },
  {
   "cell_type": "code",
   "execution_count": 99,
   "id": "1a0a5c60",
   "metadata": {},
   "outputs": [
    {
     "data": {
      "text/plain": [
       "'pihak jadi penyebab tragedi kanjuruhan pssi dan lib karena menolak perubahan jadwal yang dimohonkan arema hanya karena kepentingan rating semata polisi yang menggunakan gas air mata penyebab utama suporter arema masuk lapangan dan memicu kericuhan'"
      ]
     },
     "execution_count": 99,
     "metadata": {},
     "output_type": "execute_result"
    }
   ],
   "source": [
    "data['clean_text'].loc[1063]"
   ]
  },
  {
   "cell_type": "code",
   "execution_count": null,
   "id": "c50d032e",
   "metadata": {},
   "outputs": [],
   "source": []
  },
  {
   "cell_type": "code",
   "execution_count": null,
   "id": "5229fd2a",
   "metadata": {},
   "outputs": [],
   "source": []
  }
 ],
 "metadata": {
  "kernelspec": {
   "display_name": "Python 3 (ipykernel)",
   "language": "python",
   "name": "python3"
  },
  "language_info": {
   "codemirror_mode": {
    "name": "ipython",
    "version": 3
   },
   "file_extension": ".py",
   "mimetype": "text/x-python",
   "name": "python",
   "nbconvert_exporter": "python",
   "pygments_lexer": "ipython3",
   "version": "3.8.8"
  }
 },
 "nbformat": 4,
 "nbformat_minor": 5
}
